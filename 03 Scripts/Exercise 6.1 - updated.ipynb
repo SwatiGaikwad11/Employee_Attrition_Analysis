{
 "cells": [
  {
   "cell_type": "markdown",
   "id": "ca4905cc",
   "metadata": {},
   "source": [
    "# Exercise 6.1 Sourcing Open Data"
   ]
  },
  {
   "cell_type": "markdown",
   "id": "b3b0a741",
   "metadata": {},
   "source": [
    "# Importing libraries"
   ]
  },
  {
   "cell_type": "code",
   "execution_count": 3,
   "id": "77a56709",
   "metadata": {},
   "outputs": [],
   "source": [
    "# Import libraries\n",
    "import pandas as pd\n",
    "import numpy as np\n",
    "import os"
   ]
  },
  {
   "cell_type": "markdown",
   "id": "f570ad13",
   "metadata": {},
   "source": [
    "# Importing Data set"
   ]
  },
  {
   "cell_type": "code",
   "execution_count": 4,
   "id": "0ed03b60",
   "metadata": {},
   "outputs": [],
   "source": [
    "# Importing Data set\n",
    "path=r'C:\\Users\\swati\\Employee Termination Analysis'\n",
    "df=pd.read_csv(os.path.join(path,'02 Data','Original Data','MFG10YearTerminationData.csv'), index_col = False)"
   ]
  },
  {
   "cell_type": "markdown",
   "id": "dcb2e164",
   "metadata": {},
   "source": [
    "# Consistency check"
   ]
  },
  {
   "cell_type": "code",
   "execution_count": 5,
   "id": "61fded12",
   "metadata": {},
   "outputs": [
    {
     "data": {
      "text/plain": [
       "(49653, 18)"
      ]
     },
     "execution_count": 5,
     "metadata": {},
     "output_type": "execute_result"
    }
   ],
   "source": [
    "# checking size of dataframe\n",
    "df.shape"
   ]
  },
  {
   "cell_type": "code",
   "execution_count": 6,
   "id": "1c55c32d",
   "metadata": {},
   "outputs": [
    {
     "name": "stdout",
     "output_type": "stream",
     "text": [
      "<class 'pandas.core.frame.DataFrame'>\n",
      "RangeIndex: 49653 entries, 0 to 49652\n",
      "Data columns (total 18 columns):\n",
      " #   Column               Non-Null Count  Dtype \n",
      "---  ------               --------------  ----- \n",
      " 0   EmployeeID           49653 non-null  int64 \n",
      " 1   recorddate_key       49653 non-null  object\n",
      " 2   birthdate_key        49653 non-null  object\n",
      " 3   orighiredate_key     49653 non-null  object\n",
      " 4   terminationdate_key  49653 non-null  object\n",
      " 5   age                  49653 non-null  int64 \n",
      " 6   length_of_service    49653 non-null  int64 \n",
      " 7   city_name            49653 non-null  object\n",
      " 8   department_name      49653 non-null  object\n",
      " 9   job_title            49653 non-null  object\n",
      " 10  store_name           49653 non-null  int64 \n",
      " 11  gender_short         49653 non-null  object\n",
      " 12  gender_full          49653 non-null  object\n",
      " 13  termreason_desc      49653 non-null  object\n",
      " 14  termtype_desc        49653 non-null  object\n",
      " 15  STATUS_YEAR          49653 non-null  int64 \n",
      " 16  STATUS               49653 non-null  object\n",
      " 17  BUSINESS_UNIT        49653 non-null  object\n",
      "dtypes: int64(5), object(13)\n",
      "memory usage: 6.8+ MB\n"
     ]
    }
   ],
   "source": [
    "# Checking for data types of columns\n",
    "df.info()"
   ]
  },
  {
   "cell_type": "code",
   "execution_count": 7,
   "id": "1c1c03e9",
   "metadata": {},
   "outputs": [
    {
     "data": {
      "text/html": [
       "<div>\n",
       "<style scoped>\n",
       "    .dataframe tbody tr th:only-of-type {\n",
       "        vertical-align: middle;\n",
       "    }\n",
       "\n",
       "    .dataframe tbody tr th {\n",
       "        vertical-align: top;\n",
       "    }\n",
       "\n",
       "    .dataframe thead th {\n",
       "        text-align: right;\n",
       "    }\n",
       "</style>\n",
       "<table border=\"1\" class=\"dataframe\">\n",
       "  <thead>\n",
       "    <tr style=\"text-align: right;\">\n",
       "      <th></th>\n",
       "      <th>EmployeeID</th>\n",
       "      <th>recorddate_key</th>\n",
       "      <th>birthdate_key</th>\n",
       "      <th>orighiredate_key</th>\n",
       "      <th>terminationdate_key</th>\n",
       "      <th>age</th>\n",
       "      <th>length_of_service</th>\n",
       "      <th>city_name</th>\n",
       "      <th>department_name</th>\n",
       "      <th>job_title</th>\n",
       "      <th>store_name</th>\n",
       "      <th>gender_short</th>\n",
       "      <th>gender_full</th>\n",
       "      <th>termreason_desc</th>\n",
       "      <th>termtype_desc</th>\n",
       "      <th>STATUS_YEAR</th>\n",
       "      <th>STATUS</th>\n",
       "      <th>BUSINESS_UNIT</th>\n",
       "    </tr>\n",
       "  </thead>\n",
       "  <tbody>\n",
       "    <tr>\n",
       "      <th>0</th>\n",
       "      <td>1318</td>\n",
       "      <td>12/31/2006 0:00</td>\n",
       "      <td>1/3/1954</td>\n",
       "      <td>8/28/1989</td>\n",
       "      <td>1/1/1900</td>\n",
       "      <td>52</td>\n",
       "      <td>17</td>\n",
       "      <td>Vancouver</td>\n",
       "      <td>Executive</td>\n",
       "      <td>CEO</td>\n",
       "      <td>35</td>\n",
       "      <td>M</td>\n",
       "      <td>Male</td>\n",
       "      <td>Not Applicable</td>\n",
       "      <td>Not Applicable</td>\n",
       "      <td>2006</td>\n",
       "      <td>ACTIVE</td>\n",
       "      <td>HEADOFFICE</td>\n",
       "    </tr>\n",
       "    <tr>\n",
       "      <th>1</th>\n",
       "      <td>1318</td>\n",
       "      <td>12/31/2007 0:00</td>\n",
       "      <td>1/3/1954</td>\n",
       "      <td>8/28/1989</td>\n",
       "      <td>1/1/1900</td>\n",
       "      <td>53</td>\n",
       "      <td>18</td>\n",
       "      <td>Vancouver</td>\n",
       "      <td>Executive</td>\n",
       "      <td>CEO</td>\n",
       "      <td>35</td>\n",
       "      <td>M</td>\n",
       "      <td>Male</td>\n",
       "      <td>Not Applicable</td>\n",
       "      <td>Not Applicable</td>\n",
       "      <td>2007</td>\n",
       "      <td>ACTIVE</td>\n",
       "      <td>HEADOFFICE</td>\n",
       "    </tr>\n",
       "    <tr>\n",
       "      <th>2</th>\n",
       "      <td>1318</td>\n",
       "      <td>12/31/2008 0:00</td>\n",
       "      <td>1/3/1954</td>\n",
       "      <td>8/28/1989</td>\n",
       "      <td>1/1/1900</td>\n",
       "      <td>54</td>\n",
       "      <td>19</td>\n",
       "      <td>Vancouver</td>\n",
       "      <td>Executive</td>\n",
       "      <td>CEO</td>\n",
       "      <td>35</td>\n",
       "      <td>M</td>\n",
       "      <td>Male</td>\n",
       "      <td>Not Applicable</td>\n",
       "      <td>Not Applicable</td>\n",
       "      <td>2008</td>\n",
       "      <td>ACTIVE</td>\n",
       "      <td>HEADOFFICE</td>\n",
       "    </tr>\n",
       "    <tr>\n",
       "      <th>3</th>\n",
       "      <td>1318</td>\n",
       "      <td>12/31/2009 0:00</td>\n",
       "      <td>1/3/1954</td>\n",
       "      <td>8/28/1989</td>\n",
       "      <td>1/1/1900</td>\n",
       "      <td>55</td>\n",
       "      <td>20</td>\n",
       "      <td>Vancouver</td>\n",
       "      <td>Executive</td>\n",
       "      <td>CEO</td>\n",
       "      <td>35</td>\n",
       "      <td>M</td>\n",
       "      <td>Male</td>\n",
       "      <td>Not Applicable</td>\n",
       "      <td>Not Applicable</td>\n",
       "      <td>2009</td>\n",
       "      <td>ACTIVE</td>\n",
       "      <td>HEADOFFICE</td>\n",
       "    </tr>\n",
       "    <tr>\n",
       "      <th>4</th>\n",
       "      <td>1318</td>\n",
       "      <td>12/31/2010 0:00</td>\n",
       "      <td>1/3/1954</td>\n",
       "      <td>8/28/1989</td>\n",
       "      <td>1/1/1900</td>\n",
       "      <td>56</td>\n",
       "      <td>21</td>\n",
       "      <td>Vancouver</td>\n",
       "      <td>Executive</td>\n",
       "      <td>CEO</td>\n",
       "      <td>35</td>\n",
       "      <td>M</td>\n",
       "      <td>Male</td>\n",
       "      <td>Not Applicable</td>\n",
       "      <td>Not Applicable</td>\n",
       "      <td>2010</td>\n",
       "      <td>ACTIVE</td>\n",
       "      <td>HEADOFFICE</td>\n",
       "    </tr>\n",
       "  </tbody>\n",
       "</table>\n",
       "</div>"
      ],
      "text/plain": [
       "   EmployeeID   recorddate_key birthdate_key orighiredate_key  \\\n",
       "0        1318  12/31/2006 0:00      1/3/1954        8/28/1989   \n",
       "1        1318  12/31/2007 0:00      1/3/1954        8/28/1989   \n",
       "2        1318  12/31/2008 0:00      1/3/1954        8/28/1989   \n",
       "3        1318  12/31/2009 0:00      1/3/1954        8/28/1989   \n",
       "4        1318  12/31/2010 0:00      1/3/1954        8/28/1989   \n",
       "\n",
       "  terminationdate_key  age  length_of_service  city_name department_name  \\\n",
       "0            1/1/1900   52                 17  Vancouver       Executive   \n",
       "1            1/1/1900   53                 18  Vancouver       Executive   \n",
       "2            1/1/1900   54                 19  Vancouver       Executive   \n",
       "3            1/1/1900   55                 20  Vancouver       Executive   \n",
       "4            1/1/1900   56                 21  Vancouver       Executive   \n",
       "\n",
       "  job_title  store_name gender_short gender_full termreason_desc  \\\n",
       "0       CEO          35            M        Male  Not Applicable   \n",
       "1       CEO          35            M        Male  Not Applicable   \n",
       "2       CEO          35            M        Male  Not Applicable   \n",
       "3       CEO          35            M        Male  Not Applicable   \n",
       "4       CEO          35            M        Male  Not Applicable   \n",
       "\n",
       "    termtype_desc  STATUS_YEAR  STATUS BUSINESS_UNIT  \n",
       "0  Not Applicable         2006  ACTIVE    HEADOFFICE  \n",
       "1  Not Applicable         2007  ACTIVE    HEADOFFICE  \n",
       "2  Not Applicable         2008  ACTIVE    HEADOFFICE  \n",
       "3  Not Applicable         2009  ACTIVE    HEADOFFICE  \n",
       "4  Not Applicable         2010  ACTIVE    HEADOFFICE  "
      ]
     },
     "execution_count": 7,
     "metadata": {},
     "output_type": "execute_result"
    }
   ],
   "source": [
    "df.head()"
   ]
  },
  {
   "cell_type": "code",
   "execution_count": 8,
   "id": "0ac5ed50",
   "metadata": {},
   "outputs": [
    {
     "data": {
      "text/plain": [
       "EmployeeID             0\n",
       "recorddate_key         0\n",
       "birthdate_key          0\n",
       "orighiredate_key       0\n",
       "terminationdate_key    0\n",
       "age                    0\n",
       "length_of_service      0\n",
       "city_name              0\n",
       "department_name        0\n",
       "job_title              0\n",
       "store_name             0\n",
       "gender_short           0\n",
       "gender_full            0\n",
       "termreason_desc        0\n",
       "termtype_desc          0\n",
       "STATUS_YEAR            0\n",
       "STATUS                 0\n",
       "BUSINESS_UNIT          0\n",
       "dtype: int64"
      ]
     },
     "execution_count": 8,
     "metadata": {},
     "output_type": "execute_result"
    }
   ],
   "source": [
    "# Checking for missing values \n",
    "df.isnull().sum()"
   ]
  },
  {
   "cell_type": "markdown",
   "id": "f3b87360",
   "metadata": {},
   "source": [
    "### No missing values found"
   ]
  },
  {
   "cell_type": "code",
   "execution_count": 9,
   "id": "767407b0",
   "metadata": {},
   "outputs": [],
   "source": [
    "# Checking duplicate values \n",
    "df_dups=df[df.duplicated()]"
   ]
  },
  {
   "cell_type": "code",
   "execution_count": 10,
   "id": "ad345e2d",
   "metadata": {},
   "outputs": [
    {
     "data": {
      "text/html": [
       "<div>\n",
       "<style scoped>\n",
       "    .dataframe tbody tr th:only-of-type {\n",
       "        vertical-align: middle;\n",
       "    }\n",
       "\n",
       "    .dataframe tbody tr th {\n",
       "        vertical-align: top;\n",
       "    }\n",
       "\n",
       "    .dataframe thead th {\n",
       "        text-align: right;\n",
       "    }\n",
       "</style>\n",
       "<table border=\"1\" class=\"dataframe\">\n",
       "  <thead>\n",
       "    <tr style=\"text-align: right;\">\n",
       "      <th></th>\n",
       "      <th>EmployeeID</th>\n",
       "      <th>recorddate_key</th>\n",
       "      <th>birthdate_key</th>\n",
       "      <th>orighiredate_key</th>\n",
       "      <th>terminationdate_key</th>\n",
       "      <th>age</th>\n",
       "      <th>length_of_service</th>\n",
       "      <th>city_name</th>\n",
       "      <th>department_name</th>\n",
       "      <th>job_title</th>\n",
       "      <th>store_name</th>\n",
       "      <th>gender_short</th>\n",
       "      <th>gender_full</th>\n",
       "      <th>termreason_desc</th>\n",
       "      <th>termtype_desc</th>\n",
       "      <th>STATUS_YEAR</th>\n",
       "      <th>STATUS</th>\n",
       "      <th>BUSINESS_UNIT</th>\n",
       "    </tr>\n",
       "  </thead>\n",
       "  <tbody>\n",
       "  </tbody>\n",
       "</table>\n",
       "</div>"
      ],
      "text/plain": [
       "Empty DataFrame\n",
       "Columns: [EmployeeID, recorddate_key, birthdate_key, orighiredate_key, terminationdate_key, age, length_of_service, city_name, department_name, job_title, store_name, gender_short, gender_full, termreason_desc, termtype_desc, STATUS_YEAR, STATUS, BUSINESS_UNIT]\n",
       "Index: []"
      ]
     },
     "execution_count": 10,
     "metadata": {},
     "output_type": "execute_result"
    }
   ],
   "source": [
    "df_dups"
   ]
  },
  {
   "cell_type": "markdown",
   "id": "75736c46",
   "metadata": {},
   "source": [
    "### No duplicates found"
   ]
  },
  {
   "cell_type": "code",
   "execution_count": 11,
   "id": "9f890625",
   "metadata": {},
   "outputs": [],
   "source": [
    "# Checking for mixed-types \n",
    "for col in df.columns.tolist():\n",
    "  weird = (df[[col]].applymap(type) != df[[col]].iloc[0].apply(type)).any(axis = 1)\n",
    "  if len (df[weird]) > 0:\n",
    "    print (col)"
   ]
  },
  {
   "cell_type": "markdown",
   "id": "d43a1ce9",
   "metadata": {},
   "source": [
    "###  No mixed-type of data has been detected"
   ]
  },
  {
   "cell_type": "code",
   "execution_count": 12,
   "id": "2ebdec12",
   "metadata": {},
   "outputs": [
    {
     "data": {
      "text/html": [
       "<div>\n",
       "<style scoped>\n",
       "    .dataframe tbody tr th:only-of-type {\n",
       "        vertical-align: middle;\n",
       "    }\n",
       "\n",
       "    .dataframe tbody tr th {\n",
       "        vertical-align: top;\n",
       "    }\n",
       "\n",
       "    .dataframe thead th {\n",
       "        text-align: right;\n",
       "    }\n",
       "</style>\n",
       "<table border=\"1\" class=\"dataframe\">\n",
       "  <thead>\n",
       "    <tr style=\"text-align: right;\">\n",
       "      <th></th>\n",
       "      <th>EmployeeID</th>\n",
       "      <th>age</th>\n",
       "      <th>length_of_service</th>\n",
       "      <th>store_name</th>\n",
       "      <th>STATUS_YEAR</th>\n",
       "    </tr>\n",
       "  </thead>\n",
       "  <tbody>\n",
       "    <tr>\n",
       "      <th>count</th>\n",
       "      <td>49653.000000</td>\n",
       "      <td>49653.000000</td>\n",
       "      <td>49653.000000</td>\n",
       "      <td>49653.000000</td>\n",
       "      <td>49653.000000</td>\n",
       "    </tr>\n",
       "    <tr>\n",
       "      <th>mean</th>\n",
       "      <td>4859.495740</td>\n",
       "      <td>42.077035</td>\n",
       "      <td>10.434596</td>\n",
       "      <td>27.297605</td>\n",
       "      <td>2010.612612</td>\n",
       "    </tr>\n",
       "    <tr>\n",
       "      <th>std</th>\n",
       "      <td>1826.571142</td>\n",
       "      <td>12.427257</td>\n",
       "      <td>6.325286</td>\n",
       "      <td>13.514134</td>\n",
       "      <td>2.845577</td>\n",
       "    </tr>\n",
       "    <tr>\n",
       "      <th>min</th>\n",
       "      <td>1318.000000</td>\n",
       "      <td>19.000000</td>\n",
       "      <td>0.000000</td>\n",
       "      <td>1.000000</td>\n",
       "      <td>2006.000000</td>\n",
       "    </tr>\n",
       "    <tr>\n",
       "      <th>25%</th>\n",
       "      <td>3360.000000</td>\n",
       "      <td>31.000000</td>\n",
       "      <td>5.000000</td>\n",
       "      <td>16.000000</td>\n",
       "      <td>2008.000000</td>\n",
       "    </tr>\n",
       "    <tr>\n",
       "      <th>50%</th>\n",
       "      <td>5031.000000</td>\n",
       "      <td>42.000000</td>\n",
       "      <td>10.000000</td>\n",
       "      <td>28.000000</td>\n",
       "      <td>2011.000000</td>\n",
       "    </tr>\n",
       "    <tr>\n",
       "      <th>75%</th>\n",
       "      <td>6335.000000</td>\n",
       "      <td>53.000000</td>\n",
       "      <td>15.000000</td>\n",
       "      <td>42.000000</td>\n",
       "      <td>2013.000000</td>\n",
       "    </tr>\n",
       "    <tr>\n",
       "      <th>max</th>\n",
       "      <td>8336.000000</td>\n",
       "      <td>65.000000</td>\n",
       "      <td>26.000000</td>\n",
       "      <td>46.000000</td>\n",
       "      <td>2015.000000</td>\n",
       "    </tr>\n",
       "  </tbody>\n",
       "</table>\n",
       "</div>"
      ],
      "text/plain": [
       "         EmployeeID           age  length_of_service    store_name  \\\n",
       "count  49653.000000  49653.000000       49653.000000  49653.000000   \n",
       "mean    4859.495740     42.077035          10.434596     27.297605   \n",
       "std     1826.571142     12.427257           6.325286     13.514134   \n",
       "min     1318.000000     19.000000           0.000000      1.000000   \n",
       "25%     3360.000000     31.000000           5.000000     16.000000   \n",
       "50%     5031.000000     42.000000          10.000000     28.000000   \n",
       "75%     6335.000000     53.000000          15.000000     42.000000   \n",
       "max     8336.000000     65.000000          26.000000     46.000000   \n",
       "\n",
       "        STATUS_YEAR  \n",
       "count  49653.000000  \n",
       "mean    2010.612612  \n",
       "std        2.845577  \n",
       "min     2006.000000  \n",
       "25%     2008.000000  \n",
       "50%     2011.000000  \n",
       "75%     2013.000000  \n",
       "max     2015.000000  "
      ]
     },
     "execution_count": 12,
     "metadata": {},
     "output_type": "execute_result"
    }
   ],
   "source": [
    "df.describe()"
   ]
  },
  {
   "cell_type": "markdown",
   "id": "eb56b8ee",
   "metadata": {},
   "source": [
    "# Data Wrangling"
   ]
  },
  {
   "cell_type": "code",
   "execution_count": 13,
   "id": "016c4307",
   "metadata": {},
   "outputs": [],
   "source": [
    "# Renaming some column names\n",
    "df.rename(columns = {'EmployeeID':'employee_id', 'store_name':'store_number', 'STATUS_YEAR':'year_of_record', 'gender_full':'gender', 'STATUS':'employment_status', 'BUSINESS_UNIT':'business_unit'}, inplace = True)"
   ]
  },
  {
   "cell_type": "code",
   "execution_count": 14,
   "id": "efe0307a",
   "metadata": {},
   "outputs": [
    {
     "data": {
      "text/plain": [
       "employee_id             int64\n",
       "recorddate_key         object\n",
       "birthdate_key          object\n",
       "orighiredate_key       object\n",
       "terminationdate_key    object\n",
       "age                     int64\n",
       "length_of_service       int64\n",
       "city_name              object\n",
       "department_name        object\n",
       "job_title              object\n",
       "store_number            int64\n",
       "gender_short           object\n",
       "gender                 object\n",
       "termreason_desc        object\n",
       "termtype_desc          object\n",
       "year_of_record          int64\n",
       "employment_status      object\n",
       "business_unit          object\n",
       "dtype: object"
      ]
     },
     "execution_count": 14,
     "metadata": {},
     "output_type": "execute_result"
    }
   ],
   "source": [
    "# Checking data types\n",
    "df.dtypes"
   ]
  },
  {
   "cell_type": "code",
   "execution_count": 15,
   "id": "342c0863",
   "metadata": {},
   "outputs": [
    {
     "data": {
      "text/plain": [
       "Index(['employee_id', 'recorddate_key', 'birthdate_key', 'orighiredate_key',\n",
       "       'terminationdate_key', 'age', 'length_of_service', 'city_name',\n",
       "       'department_name', 'job_title', 'store_number', 'gender_short',\n",
       "       'gender', 'termreason_desc', 'termtype_desc', 'year_of_record',\n",
       "       'employment_status', 'business_unit'],\n",
       "      dtype='object')"
      ]
     },
     "execution_count": 15,
     "metadata": {},
     "output_type": "execute_result"
    }
   ],
   "source": [
    "# Checking column names\n",
    "df.columns"
   ]
  },
  {
   "cell_type": "code",
   "execution_count": 16,
   "id": "2e63e3ab",
   "metadata": {},
   "outputs": [
    {
     "data": {
      "text/plain": [
       "array(['Vancouver', 'Terrace', 'Nanaimo', 'Nelson', 'Kelowna', 'Victoria',\n",
       "       'Kamloops', 'Fort St John', 'Surrey', 'Vernon', 'Quesnel',\n",
       "       'Chilliwack', 'Dawson Creek', 'Squamish', 'New Westminster',\n",
       "       'Port Coquitlam', 'Cortes Island', 'Burnaby', 'Bella Bella',\n",
       "       'Cranbrook', 'Williams Lake', 'Trail', 'Prince George', 'Richmond',\n",
       "       'Grand Forks', 'West Vancouver', 'Abbotsford', 'Aldergrove',\n",
       "       'Langley', 'North Vancouver', 'White Rock', 'New Westminister',\n",
       "       'Fort Nelson', 'Haney', 'Valemount', 'Ocean Falls', 'Princeton',\n",
       "       'Dease Lake', 'Pitt Meadows', 'Blue River'], dtype=object)"
      ]
     },
     "execution_count": 16,
     "metadata": {},
     "output_type": "execute_result"
    }
   ],
   "source": [
    "# Checking unique values of city names \n",
    "df.city_name.unique()"
   ]
  },
  {
   "cell_type": "code",
   "execution_count": 17,
   "id": "45340ac8",
   "metadata": {},
   "outputs": [],
   "source": [
    "# Replacing with correct city name\n",
    "df.replace('New Westminister','New Westminster', inplace=True)"
   ]
  },
  {
   "cell_type": "code",
   "execution_count": 18,
   "id": "36900908",
   "metadata": {},
   "outputs": [
    {
     "data": {
      "text/plain": [
       "Vancouver          11211\n",
       "Victoria            4885\n",
       "Nanaimo             3876\n",
       "New Westminster     3465\n",
       "Kelowna             2513\n",
       "Burnaby             2067\n",
       "Kamloops            2061\n",
       "Prince George       2048\n",
       "Cranbrook           1785\n",
       "Surrey              1560\n",
       "Richmond            1401\n",
       "Terrace             1228\n",
       "Chilliwack          1167\n",
       "Trail                925\n",
       "Langley              901\n",
       "Vernon               898\n",
       "Squamish             806\n",
       "Quesnel              703\n",
       "Abbotsford           681\n",
       "North Vancouver      648\n",
       "Fort St John         621\n",
       "Williams Lake        617\n",
       "West Vancouver       613\n",
       "Port Coquitlam       545\n",
       "Aldergrove           520\n",
       "Fort Nelson          322\n",
       "Nelson               317\n",
       "Grand Forks          236\n",
       "White Rock           231\n",
       "Haney                182\n",
       "Princeton            136\n",
       "Dawson Creek         129\n",
       "Bella Bella          126\n",
       "Ocean Falls           65\n",
       "Pitt Meadows          57\n",
       "Cortes Island         43\n",
       "Valemount             37\n",
       "Dease Lake            18\n",
       "Blue River             9\n",
       "Name: city_name, dtype: int64"
      ]
     },
     "execution_count": 18,
     "metadata": {},
     "output_type": "execute_result"
    }
   ],
   "source": [
    "# Checking frequency count for city_name\n",
    "df['city_name'].value_counts()"
   ]
  },
  {
   "cell_type": "code",
   "execution_count": 19,
   "id": "2bbfcd48",
   "metadata": {},
   "outputs": [
    {
     "data": {
      "text/plain": [
       "array(['CEO', 'VP Stores', 'Legal Counsel', 'VP Human Resources',\n",
       "       'VP Finance', 'Exec Assistant, VP Stores',\n",
       "       'Exec Assistant, Legal Counsel', 'CHief Information Officer',\n",
       "       'Store Manager', 'Meats Manager',\n",
       "       'Exec Assistant, Human Resources', 'Exec Assistant, Finance',\n",
       "       'Director, Recruitment', 'Director, Training',\n",
       "       'Director, Labor Relations', 'Director, HR Technology',\n",
       "       'Director, Employee Records', 'Director, Compensation',\n",
       "       'Corporate Lawyer', 'Produce Manager',\n",
       "       'Director, Accounts Receivable', 'Bakery Manager',\n",
       "       'Systems Analyst', 'Director, Accounts Payable', 'Director, Audit',\n",
       "       'Director, Accounting', 'Director, Investments', 'Dairy Person',\n",
       "       'Recruiter', 'Processed Foods Manager', 'Customer Service Manager',\n",
       "       'Trainer', 'Meat Cutter', 'Labor Relations Analyst',\n",
       "       'Dairy Manager', 'HRIS Analyst', 'Benefits Admin',\n",
       "       'Compensation Analyst', 'Accounts Receiveable Clerk',\n",
       "       'Accounts Payable Clerk', 'Baker', 'Auditor', 'Accounting Clerk',\n",
       "       'Investment Analyst', 'Produce Clerk', 'Shelf Stocker', 'Cashier'],\n",
       "      dtype=object)"
      ]
     },
     "execution_count": 19,
     "metadata": {},
     "output_type": "execute_result"
    }
   ],
   "source": [
    "# Checking unique values of job_title\n",
    "df.job_title.unique()"
   ]
  },
  {
   "cell_type": "code",
   "execution_count": 20,
   "id": "383d0ad2",
   "metadata": {},
   "outputs": [
    {
     "data": {
      "text/plain": [
       "Meat Cutter                        9984\n",
       "Dairy Person                       8590\n",
       "Produce Clerk                      8237\n",
       "Baker                              8096\n",
       "Cashier                            6816\n",
       "Shelf Stocker                      5622\n",
       "Customer Service Manager            306\n",
       "Processed Foods Manager             289\n",
       "Bakery Manager                      285\n",
       "Meats Manager                       285\n",
       "Produce Manager                     278\n",
       "Store Manager                       271\n",
       "Recruiter                            62\n",
       "HRIS Analyst                         55\n",
       "Accounting Clerk                     50\n",
       "Benefits Admin                       35\n",
       "Labor Relations Analyst              30\n",
       "Accounts Receiveable Clerk           30\n",
       "Trainer                              26\n",
       "Accounts Payable Clerk               25\n",
       "Auditor                              20\n",
       "Systems Analyst                      20\n",
       "Investment Analyst                   20\n",
       "Compensation Analyst                 20\n",
       "Corporate Lawyer                     17\n",
       "CEO                                  10\n",
       "Exec Assistant, VP Stores            10\n",
       "Legal Counsel                        10\n",
       "VP Stores                            10\n",
       "VP Human Resources                   10\n",
       "VP Finance                           10\n",
       "Director, Recruitment                10\n",
       "Exec Assistant, Finance              10\n",
       "Exec Assistant, Human Resources      10\n",
       "CHief Information Officer            10\n",
       "Exec Assistant, Legal Counsel        10\n",
       "Director, Accounts Payable            9\n",
       "Director, Accounts Receivable         9\n",
       "Director, Employee Records            9\n",
       "Director, HR Technology               9\n",
       "Dairy Manager                         9\n",
       "Director, Accounting                  9\n",
       "Director, Investments                 4\n",
       "Director, Labor Relations             4\n",
       "Director, Compensation                4\n",
       "Director, Audit                       4\n",
       "Director, Training                    4\n",
       "Name: job_title, dtype: int64"
      ]
     },
     "execution_count": 20,
     "metadata": {},
     "output_type": "execute_result"
    }
   ],
   "source": [
    "# Checking frequency count for job_title\n",
    "df['job_title'].value_counts()"
   ]
  },
  {
   "cell_type": "code",
   "execution_count": 21,
   "id": "956c635c",
   "metadata": {},
   "outputs": [],
   "source": [
    "# Create for-loop to create Job Category from job titles\n",
    "job_category = []\n",
    "for value in df['job_title']:\n",
    "    if (value == 'CEO') or (value == 'VP Stores') or (value == 'Director, Recruitment') or (value == 'VP Human Resources') or (value == 'VP Finance') or (value == 'Director, Accounts Receivable') or (value == 'Director, Accounting') or (value == 'Director, Employee Records') or (value =='Director, Accounts Payable')or (value == 'Director, HR Technology')or (value == 'Director, Investments')or (value == 'Director, Labor Relations')or (value == 'Director, Audit')or (value == 'Director, Training') or (value == 'Director, Compensation'):\n",
    "        job_category.append('Board')\n",
    "    elif (value == 'Exec Assistant, VP Stores') or (value == 'Exec Assistant, Legal Counsel') or (value == 'CHief Information Officer') or (value == 'Exec Assistant, Human Resources') or (value == 'Exec Assistant, Finance'):\n",
    "        job_category.append('Executive')\n",
    "    elif (value == 'Customer Service Manager') or (value == 'Processed Foods Manager') or (value == 'Meats Manager') or (value == 'Bakery Manager') or (value == 'Produce Manager') or (value == 'Store Manager') or (value == 'Trainer') or (value == 'Dairy Manager') :\n",
    "        job_category.append('Manager')\n",
    "    else:\n",
    "        job_category.append('Employee')"
   ]
  },
  {
   "cell_type": "code",
   "execution_count": 22,
   "id": "99345981",
   "metadata": {},
   "outputs": [],
   "source": [
    "# Create 'job_category' column based on 'job_title'column\n",
    "\n",
    "df['job_category'] = job_category"
   ]
  },
  {
   "cell_type": "code",
   "execution_count": 23,
   "id": "eba2eb36",
   "metadata": {},
   "outputs": [
    {
     "data": {
      "text/plain": [
       "array(['Board', 'Employee', 'Executive', 'Manager'], dtype=object)"
      ]
     },
     "execution_count": 23,
     "metadata": {},
     "output_type": "execute_result"
    }
   ],
   "source": [
    "# Checking unique values of job_category\n",
    "df.job_category.unique()"
   ]
  },
  {
   "cell_type": "code",
   "execution_count": 24,
   "id": "e0b10068",
   "metadata": {},
   "outputs": [
    {
     "data": {
      "text/plain": [
       "Employee     47739\n",
       "Manager       1749\n",
       "Board          115\n",
       "Executive       50\n",
       "Name: job_category, dtype: int64"
      ]
     },
     "execution_count": 24,
     "metadata": {},
     "output_type": "execute_result"
    }
   ],
   "source": [
    "# Checking frequency count for job_category\n",
    "df['job_category'].value_counts()"
   ]
  },
  {
   "cell_type": "code",
   "execution_count": 25,
   "id": "c820d6cb",
   "metadata": {},
   "outputs": [
    {
     "data": {
      "text/plain": [
       "(49653, 19)"
      ]
     },
     "execution_count": 25,
     "metadata": {},
     "output_type": "execute_result"
    }
   ],
   "source": [
    "df.shape"
   ]
  },
  {
   "cell_type": "code",
   "execution_count": 26,
   "id": "ecb9575f",
   "metadata": {},
   "outputs": [
    {
     "data": {
      "text/plain": [
       "array(['Executive', 'Store Management', 'Meats', 'Recruitment',\n",
       "       'Training', 'Labor Relations', 'HR Technology', 'Employee Records',\n",
       "       'Compensation', 'Legal', 'Produce', 'Accounts Receiveable',\n",
       "       'Bakery', 'Information Technology', 'Accounts Payable', 'Audit',\n",
       "       'Accounting', 'Investment', 'Dairy', 'Processed Foods',\n",
       "       'Customer Service'], dtype=object)"
      ]
     },
     "execution_count": 26,
     "metadata": {},
     "output_type": "execute_result"
    }
   ],
   "source": [
    "# Checking unique values of department_name\n",
    "df.department_name.unique()"
   ]
  },
  {
   "cell_type": "code",
   "execution_count": 27,
   "id": "18e8dd1b",
   "metadata": {},
   "outputs": [
    {
     "data": {
      "text/plain": [
       "Meats                     10269\n",
       "Dairy                      8599\n",
       "Produce                    8515\n",
       "Bakery                     8381\n",
       "Customer Service           7122\n",
       "Processed Foods            5911\n",
       "Store Management            271\n",
       "Executive                   100\n",
       "Recruitment                  72\n",
       "HR Technology                64\n",
       "Accounting                   59\n",
       "Employee Records             44\n",
       "Accounts Receiveable         39\n",
       "Labor Relations              34\n",
       "Accounts Payable             34\n",
       "Training                     30\n",
       "Compensation                 24\n",
       "Audit                        24\n",
       "Investment                   24\n",
       "Information Technology       20\n",
       "Legal                        17\n",
       "Name: department_name, dtype: int64"
      ]
     },
     "execution_count": 27,
     "metadata": {},
     "output_type": "execute_result"
    }
   ],
   "source": [
    "# Checking frequency count for department_name\n",
    "df['department_name'].value_counts()"
   ]
  },
  {
   "cell_type": "code",
   "execution_count": 28,
   "id": "ae07cf39",
   "metadata": {},
   "outputs": [
    {
     "data": {
      "text/plain": [
       "Female    25898\n",
       "Male      23755\n",
       "Name: gender, dtype: int64"
      ]
     },
     "execution_count": 28,
     "metadata": {},
     "output_type": "execute_result"
    }
   ],
   "source": [
    "# Checking frequency count for gender\n",
    "df['gender'].value_counts()"
   ]
  },
  {
   "cell_type": "code",
   "execution_count": 29,
   "id": "8e5bb875",
   "metadata": {},
   "outputs": [
    {
     "data": {
      "text/plain": [
       "F    25898\n",
       "M    23755\n",
       "Name: gender_short, dtype: int64"
      ]
     },
     "execution_count": 29,
     "metadata": {},
     "output_type": "execute_result"
    }
   ],
   "source": [
    "# Checking frequency count for gender_short\n",
    "df['gender_short'].value_counts()"
   ]
  },
  {
   "cell_type": "code",
   "execution_count": 30,
   "id": "18a71123",
   "metadata": {},
   "outputs": [
    {
     "data": {
      "text/plain": [
       "Not Applicable    48168\n",
       "Retirement          885\n",
       "Resignaton          385\n",
       "Layoff              215\n",
       "Name: termreason_desc, dtype: int64"
      ]
     },
     "execution_count": 30,
     "metadata": {},
     "output_type": "execute_result"
    }
   ],
   "source": [
    "# Checking frequency count for termreason_desc\n",
    "df['termreason_desc'].value_counts()"
   ]
  },
  {
   "cell_type": "code",
   "execution_count": 31,
   "id": "a92c7f38",
   "metadata": {},
   "outputs": [
    {
     "data": {
      "text/plain": [
       "ACTIVE        48168\n",
       "TERMINATED     1485\n",
       "Name: employment_status, dtype: int64"
      ]
     },
     "execution_count": 31,
     "metadata": {},
     "output_type": "execute_result"
    }
   ],
   "source": [
    "# Checking frequency count for employment_status\n",
    "df['employment_status'].value_counts()"
   ]
  },
  {
   "cell_type": "code",
   "execution_count": 32,
   "id": "a6abc18f",
   "metadata": {},
   "outputs": [
    {
     "data": {
      "text/plain": [
       "STORES        49068\n",
       "HEADOFFICE      585\n",
       "Name: business_unit, dtype: int64"
      ]
     },
     "execution_count": 32,
     "metadata": {},
     "output_type": "execute_result"
    }
   ],
   "source": [
    "# Checking frequency count for business_unit\n",
    "df['business_unit'].value_counts()"
   ]
  },
  {
   "cell_type": "code",
   "execution_count": 33,
   "id": "86b367d6",
   "metadata": {},
   "outputs": [],
   "source": [
    "# Dropping columns which are not required for further analysis\n",
    "df = df.drop(['recorddate_key', 'birthdate_key', 'gender_short', 'orighiredate_key'], axis = 1)"
   ]
  },
  {
   "cell_type": "code",
   "execution_count": 34,
   "id": "f763e6a5",
   "metadata": {},
   "outputs": [
    {
     "data": {
      "text/html": [
       "<div>\n",
       "<style scoped>\n",
       "    .dataframe tbody tr th:only-of-type {\n",
       "        vertical-align: middle;\n",
       "    }\n",
       "\n",
       "    .dataframe tbody tr th {\n",
       "        vertical-align: top;\n",
       "    }\n",
       "\n",
       "    .dataframe thead th {\n",
       "        text-align: right;\n",
       "    }\n",
       "</style>\n",
       "<table border=\"1\" class=\"dataframe\">\n",
       "  <thead>\n",
       "    <tr style=\"text-align: right;\">\n",
       "      <th></th>\n",
       "      <th>employee_id</th>\n",
       "      <th>terminationdate_key</th>\n",
       "      <th>age</th>\n",
       "      <th>length_of_service</th>\n",
       "      <th>city_name</th>\n",
       "      <th>department_name</th>\n",
       "      <th>job_title</th>\n",
       "      <th>store_number</th>\n",
       "      <th>gender</th>\n",
       "      <th>termreason_desc</th>\n",
       "      <th>termtype_desc</th>\n",
       "      <th>year_of_record</th>\n",
       "      <th>employment_status</th>\n",
       "      <th>business_unit</th>\n",
       "      <th>job_category</th>\n",
       "    </tr>\n",
       "  </thead>\n",
       "  <tbody>\n",
       "    <tr>\n",
       "      <th>0</th>\n",
       "      <td>1318</td>\n",
       "      <td>1/1/1900</td>\n",
       "      <td>52</td>\n",
       "      <td>17</td>\n",
       "      <td>Vancouver</td>\n",
       "      <td>Executive</td>\n",
       "      <td>CEO</td>\n",
       "      <td>35</td>\n",
       "      <td>Male</td>\n",
       "      <td>Not Applicable</td>\n",
       "      <td>Not Applicable</td>\n",
       "      <td>2006</td>\n",
       "      <td>ACTIVE</td>\n",
       "      <td>HEADOFFICE</td>\n",
       "      <td>Board</td>\n",
       "    </tr>\n",
       "    <tr>\n",
       "      <th>1</th>\n",
       "      <td>1318</td>\n",
       "      <td>1/1/1900</td>\n",
       "      <td>53</td>\n",
       "      <td>18</td>\n",
       "      <td>Vancouver</td>\n",
       "      <td>Executive</td>\n",
       "      <td>CEO</td>\n",
       "      <td>35</td>\n",
       "      <td>Male</td>\n",
       "      <td>Not Applicable</td>\n",
       "      <td>Not Applicable</td>\n",
       "      <td>2007</td>\n",
       "      <td>ACTIVE</td>\n",
       "      <td>HEADOFFICE</td>\n",
       "      <td>Board</td>\n",
       "    </tr>\n",
       "    <tr>\n",
       "      <th>2</th>\n",
       "      <td>1318</td>\n",
       "      <td>1/1/1900</td>\n",
       "      <td>54</td>\n",
       "      <td>19</td>\n",
       "      <td>Vancouver</td>\n",
       "      <td>Executive</td>\n",
       "      <td>CEO</td>\n",
       "      <td>35</td>\n",
       "      <td>Male</td>\n",
       "      <td>Not Applicable</td>\n",
       "      <td>Not Applicable</td>\n",
       "      <td>2008</td>\n",
       "      <td>ACTIVE</td>\n",
       "      <td>HEADOFFICE</td>\n",
       "      <td>Board</td>\n",
       "    </tr>\n",
       "    <tr>\n",
       "      <th>3</th>\n",
       "      <td>1318</td>\n",
       "      <td>1/1/1900</td>\n",
       "      <td>55</td>\n",
       "      <td>20</td>\n",
       "      <td>Vancouver</td>\n",
       "      <td>Executive</td>\n",
       "      <td>CEO</td>\n",
       "      <td>35</td>\n",
       "      <td>Male</td>\n",
       "      <td>Not Applicable</td>\n",
       "      <td>Not Applicable</td>\n",
       "      <td>2009</td>\n",
       "      <td>ACTIVE</td>\n",
       "      <td>HEADOFFICE</td>\n",
       "      <td>Board</td>\n",
       "    </tr>\n",
       "    <tr>\n",
       "      <th>4</th>\n",
       "      <td>1318</td>\n",
       "      <td>1/1/1900</td>\n",
       "      <td>56</td>\n",
       "      <td>21</td>\n",
       "      <td>Vancouver</td>\n",
       "      <td>Executive</td>\n",
       "      <td>CEO</td>\n",
       "      <td>35</td>\n",
       "      <td>Male</td>\n",
       "      <td>Not Applicable</td>\n",
       "      <td>Not Applicable</td>\n",
       "      <td>2010</td>\n",
       "      <td>ACTIVE</td>\n",
       "      <td>HEADOFFICE</td>\n",
       "      <td>Board</td>\n",
       "    </tr>\n",
       "  </tbody>\n",
       "</table>\n",
       "</div>"
      ],
      "text/plain": [
       "   employee_id terminationdate_key  age  length_of_service  city_name  \\\n",
       "0         1318            1/1/1900   52                 17  Vancouver   \n",
       "1         1318            1/1/1900   53                 18  Vancouver   \n",
       "2         1318            1/1/1900   54                 19  Vancouver   \n",
       "3         1318            1/1/1900   55                 20  Vancouver   \n",
       "4         1318            1/1/1900   56                 21  Vancouver   \n",
       "\n",
       "  department_name job_title  store_number gender termreason_desc  \\\n",
       "0       Executive       CEO            35   Male  Not Applicable   \n",
       "1       Executive       CEO            35   Male  Not Applicable   \n",
       "2       Executive       CEO            35   Male  Not Applicable   \n",
       "3       Executive       CEO            35   Male  Not Applicable   \n",
       "4       Executive       CEO            35   Male  Not Applicable   \n",
       "\n",
       "    termtype_desc  year_of_record employment_status business_unit job_category  \n",
       "0  Not Applicable            2006            ACTIVE    HEADOFFICE        Board  \n",
       "1  Not Applicable            2007            ACTIVE    HEADOFFICE        Board  \n",
       "2  Not Applicable            2008            ACTIVE    HEADOFFICE        Board  \n",
       "3  Not Applicable            2009            ACTIVE    HEADOFFICE        Board  \n",
       "4  Not Applicable            2010            ACTIVE    HEADOFFICE        Board  "
      ]
     },
     "execution_count": 34,
     "metadata": {},
     "output_type": "execute_result"
    }
   ],
   "source": [
    "df.head()"
   ]
  },
  {
   "cell_type": "code",
   "execution_count": 35,
   "id": "e4be6436",
   "metadata": {},
   "outputs": [
    {
     "data": {
      "text/plain": [
       "(49653, 15)"
      ]
     },
     "execution_count": 35,
     "metadata": {},
     "output_type": "execute_result"
    }
   ],
   "source": [
    "df.shape"
   ]
  },
  {
   "cell_type": "code",
   "execution_count": 36,
   "id": "2bbdb925",
   "metadata": {},
   "outputs": [],
   "source": [
    "#Importing population data set \n",
    "df_population=pd.read_csv(os.path.join(path,'02 Data','Original Data','population.csv'), index_col = False)"
   ]
  },
  {
   "cell_type": "code",
   "execution_count": 37,
   "id": "126e969d",
   "metadata": {},
   "outputs": [
    {
     "data": {
      "text/plain": [
       "city_name     object\n",
       "population     int64\n",
       "dtype: object"
      ]
     },
     "execution_count": 37,
     "metadata": {},
     "output_type": "execute_result"
    }
   ],
   "source": [
    "# Checking datatypes of population dataframe\n",
    "df_population.dtypes"
   ]
  },
  {
   "cell_type": "code",
   "execution_count": 38,
   "id": "1d9dc76c",
   "metadata": {},
   "outputs": [
    {
     "data": {
      "text/plain": [
       "(39, 2)"
      ]
     },
     "execution_count": 38,
     "metadata": {},
     "output_type": "execute_result"
    }
   ],
   "source": [
    "df_population.shape"
   ]
  },
  {
   "cell_type": "code",
   "execution_count": 39,
   "id": "e8905269",
   "metadata": {},
   "outputs": [
    {
     "data": {
      "text/plain": [
       "Index(['city_name', 'population'], dtype='object')"
      ]
     },
     "execution_count": 39,
     "metadata": {},
     "output_type": "execute_result"
    }
   ],
   "source": [
    "df_population.columns"
   ]
  },
  {
   "cell_type": "code",
   "execution_count": 40,
   "id": "ef49ff52",
   "metadata": {},
   "outputs": [],
   "source": [
    "# Combining dataframes\n",
    "df_merge = df.merge(df_population, on = 'city_name', indicator = True)"
   ]
  },
  {
   "cell_type": "code",
   "execution_count": 41,
   "id": "19a318fd",
   "metadata": {},
   "outputs": [
    {
     "data": {
      "text/plain": [
       "(48756, 17)"
      ]
     },
     "execution_count": 41,
     "metadata": {},
     "output_type": "execute_result"
    }
   ],
   "source": [
    "df_merge.shape"
   ]
  },
  {
   "cell_type": "code",
   "execution_count": 42,
   "id": "270c0b86",
   "metadata": {},
   "outputs": [
    {
     "data": {
      "text/plain": [
       "(49653, 15)"
      ]
     },
     "execution_count": 42,
     "metadata": {},
     "output_type": "execute_result"
    }
   ],
   "source": [
    "df.shape"
   ]
  },
  {
   "cell_type": "markdown",
   "id": "57021f7a",
   "metadata": {},
   "source": [
    "897 rows didn't merge but they are less than 2% of original data which we can skip or delete."
   ]
  },
  {
   "cell_type": "code",
   "execution_count": 43,
   "id": "1d812ffd",
   "metadata": {},
   "outputs": [],
   "source": [
    "# Creating population flag to crate groups of city loctions\n",
    "df_merge.loc[df_merge['population'] >=100000, 'population_flag'] = 'Mega_city'\n",
    "df_merge.loc[(df_merge['population'] < 100000) & (df_merge['population'] >= 20000), 'population_flag'] = 'Town'\n",
    "df_merge.loc[df_merge['population'] < 20000, 'population_flag'] = 'Rural'"
   ]
  },
  {
   "cell_type": "code",
   "execution_count": 44,
   "id": "e5e29aae",
   "metadata": {},
   "outputs": [
    {
     "data": {
      "text/plain": [
       "Mega_city    28431\n",
       "Town         15064\n",
       "Rural         5261\n",
       "Name: population_flag, dtype: int64"
      ]
     },
     "execution_count": 44,
     "metadata": {},
     "output_type": "execute_result"
    }
   ],
   "source": [
    "df_merge['population_flag'].value_counts()"
   ]
  },
  {
   "cell_type": "code",
   "execution_count": 45,
   "id": "8be01d63",
   "metadata": {},
   "outputs": [],
   "source": [
    "#creating age flag to crate groups of employee accorting to their age ,\n",
    "df_merge.loc[df_merge['age'] >= 50, 'age_flag'] = 'Old_age'\n",
    "df_merge.loc[(df_merge['age'] < 50) & (df_merge['age'] >= 35), 'age_flag'] = 'Middle_age'\n",
    "df_merge.loc[df_merge['age'] < 35, 'age_flag'] = 'Young'"
   ]
  },
  {
   "cell_type": "code",
   "execution_count": 46,
   "id": "e49971a2",
   "metadata": {},
   "outputs": [
    {
     "data": {
      "text/plain": [
       "Middle_age    17106\n",
       "Old_age       15888\n",
       "Young         15762\n",
       "Name: age_flag, dtype: int64"
      ]
     },
     "execution_count": 46,
     "metadata": {},
     "output_type": "execute_result"
    }
   ],
   "source": [
    "df_merge['age_flag'].value_counts()"
   ]
  },
  {
   "cell_type": "code",
   "execution_count": 50,
   "id": "e9091c30",
   "metadata": {},
   "outputs": [],
   "source": [
    "# Creating employment status flag \n",
    "\n",
    "df_merge.loc[df_merge['employment_status'] == 'ACTIVE', 'employ_status_flag'] = '1'\n",
    "df_merge.loc[df_merge['employment_status'] == 'TERMINATED', 'employ_status_flag'] = '0'"
   ]
  },
  {
   "cell_type": "code",
   "execution_count": 51,
   "id": "139ab4c2",
   "metadata": {},
   "outputs": [
    {
     "data": {
      "text/plain": [
       "1    47337\n",
       "0     1419\n",
       "Name: employ_status_flag, dtype: int64"
      ]
     },
     "execution_count": 51,
     "metadata": {},
     "output_type": "execute_result"
    }
   ],
   "source": [
    "df_merge['employ_status_flag'].value_counts()"
   ]
  },
  {
   "cell_type": "code",
   "execution_count": 53,
   "id": "f5bb8939",
   "metadata": {},
   "outputs": [],
   "source": [
    "# Creating Hierarchy flag for job category\n",
    "\n",
    "df_merge.loc[df_merge['job_category'] == 'Employee', 'Hierarchy'] = '0'\n",
    "df_merge.loc[df_merge['job_category'] == 'Manager', 'Hierarchy'] = '1'\n",
    "df_merge.loc[df_merge['job_category'] == 'Executive', 'Hierarchy'] = '2'\n",
    "df_merge.loc[df_merge['job_category'] == 'Board', 'Hierarchy'] = '3'"
   ]
  },
  {
   "cell_type": "code",
   "execution_count": 54,
   "id": "e95254b5",
   "metadata": {},
   "outputs": [
    {
     "data": {
      "text/html": [
       "<div>\n",
       "<style scoped>\n",
       "    .dataframe tbody tr th:only-of-type {\n",
       "        vertical-align: middle;\n",
       "    }\n",
       "\n",
       "    .dataframe tbody tr th {\n",
       "        vertical-align: top;\n",
       "    }\n",
       "\n",
       "    .dataframe thead th {\n",
       "        text-align: right;\n",
       "    }\n",
       "</style>\n",
       "<table border=\"1\" class=\"dataframe\">\n",
       "  <thead>\n",
       "    <tr style=\"text-align: right;\">\n",
       "      <th></th>\n",
       "      <th>employee_id</th>\n",
       "      <th>terminationdate_key</th>\n",
       "      <th>age</th>\n",
       "      <th>length_of_service</th>\n",
       "      <th>city_name</th>\n",
       "      <th>department_name</th>\n",
       "      <th>job_title</th>\n",
       "      <th>store_number</th>\n",
       "      <th>gender</th>\n",
       "      <th>termreason_desc</th>\n",
       "      <th>...</th>\n",
       "      <th>year_of_record</th>\n",
       "      <th>employment_status</th>\n",
       "      <th>business_unit</th>\n",
       "      <th>job_category</th>\n",
       "      <th>population</th>\n",
       "      <th>_merge</th>\n",
       "      <th>population_flag</th>\n",
       "      <th>age_flag</th>\n",
       "      <th>employ_status_flag</th>\n",
       "      <th>Hierarchy</th>\n",
       "    </tr>\n",
       "  </thead>\n",
       "  <tbody>\n",
       "    <tr>\n",
       "      <th>0</th>\n",
       "      <td>1318</td>\n",
       "      <td>1/1/1900</td>\n",
       "      <td>52</td>\n",
       "      <td>17</td>\n",
       "      <td>Vancouver</td>\n",
       "      <td>Executive</td>\n",
       "      <td>CEO</td>\n",
       "      <td>35</td>\n",
       "      <td>Male</td>\n",
       "      <td>Not Applicable</td>\n",
       "      <td>...</td>\n",
       "      <td>2006</td>\n",
       "      <td>ACTIVE</td>\n",
       "      <td>HEADOFFICE</td>\n",
       "      <td>Board</td>\n",
       "      <td>2437000</td>\n",
       "      <td>both</td>\n",
       "      <td>Mega_city</td>\n",
       "      <td>Old_age</td>\n",
       "      <td>1</td>\n",
       "      <td>3</td>\n",
       "    </tr>\n",
       "    <tr>\n",
       "      <th>1</th>\n",
       "      <td>1318</td>\n",
       "      <td>1/1/1900</td>\n",
       "      <td>53</td>\n",
       "      <td>18</td>\n",
       "      <td>Vancouver</td>\n",
       "      <td>Executive</td>\n",
       "      <td>CEO</td>\n",
       "      <td>35</td>\n",
       "      <td>Male</td>\n",
       "      <td>Not Applicable</td>\n",
       "      <td>...</td>\n",
       "      <td>2007</td>\n",
       "      <td>ACTIVE</td>\n",
       "      <td>HEADOFFICE</td>\n",
       "      <td>Board</td>\n",
       "      <td>2437000</td>\n",
       "      <td>both</td>\n",
       "      <td>Mega_city</td>\n",
       "      <td>Old_age</td>\n",
       "      <td>1</td>\n",
       "      <td>3</td>\n",
       "    </tr>\n",
       "    <tr>\n",
       "      <th>2</th>\n",
       "      <td>1318</td>\n",
       "      <td>1/1/1900</td>\n",
       "      <td>54</td>\n",
       "      <td>19</td>\n",
       "      <td>Vancouver</td>\n",
       "      <td>Executive</td>\n",
       "      <td>CEO</td>\n",
       "      <td>35</td>\n",
       "      <td>Male</td>\n",
       "      <td>Not Applicable</td>\n",
       "      <td>...</td>\n",
       "      <td>2008</td>\n",
       "      <td>ACTIVE</td>\n",
       "      <td>HEADOFFICE</td>\n",
       "      <td>Board</td>\n",
       "      <td>2437000</td>\n",
       "      <td>both</td>\n",
       "      <td>Mega_city</td>\n",
       "      <td>Old_age</td>\n",
       "      <td>1</td>\n",
       "      <td>3</td>\n",
       "    </tr>\n",
       "    <tr>\n",
       "      <th>3</th>\n",
       "      <td>1318</td>\n",
       "      <td>1/1/1900</td>\n",
       "      <td>55</td>\n",
       "      <td>20</td>\n",
       "      <td>Vancouver</td>\n",
       "      <td>Executive</td>\n",
       "      <td>CEO</td>\n",
       "      <td>35</td>\n",
       "      <td>Male</td>\n",
       "      <td>Not Applicable</td>\n",
       "      <td>...</td>\n",
       "      <td>2009</td>\n",
       "      <td>ACTIVE</td>\n",
       "      <td>HEADOFFICE</td>\n",
       "      <td>Board</td>\n",
       "      <td>2437000</td>\n",
       "      <td>both</td>\n",
       "      <td>Mega_city</td>\n",
       "      <td>Old_age</td>\n",
       "      <td>1</td>\n",
       "      <td>3</td>\n",
       "    </tr>\n",
       "    <tr>\n",
       "      <th>4</th>\n",
       "      <td>1318</td>\n",
       "      <td>1/1/1900</td>\n",
       "      <td>56</td>\n",
       "      <td>21</td>\n",
       "      <td>Vancouver</td>\n",
       "      <td>Executive</td>\n",
       "      <td>CEO</td>\n",
       "      <td>35</td>\n",
       "      <td>Male</td>\n",
       "      <td>Not Applicable</td>\n",
       "      <td>...</td>\n",
       "      <td>2010</td>\n",
       "      <td>ACTIVE</td>\n",
       "      <td>HEADOFFICE</td>\n",
       "      <td>Board</td>\n",
       "      <td>2437000</td>\n",
       "      <td>both</td>\n",
       "      <td>Mega_city</td>\n",
       "      <td>Old_age</td>\n",
       "      <td>1</td>\n",
       "      <td>3</td>\n",
       "    </tr>\n",
       "  </tbody>\n",
       "</table>\n",
       "<p>5 rows × 21 columns</p>\n",
       "</div>"
      ],
      "text/plain": [
       "   employee_id terminationdate_key  age  length_of_service  city_name  \\\n",
       "0         1318            1/1/1900   52                 17  Vancouver   \n",
       "1         1318            1/1/1900   53                 18  Vancouver   \n",
       "2         1318            1/1/1900   54                 19  Vancouver   \n",
       "3         1318            1/1/1900   55                 20  Vancouver   \n",
       "4         1318            1/1/1900   56                 21  Vancouver   \n",
       "\n",
       "  department_name job_title  store_number gender termreason_desc  ...  \\\n",
       "0       Executive       CEO            35   Male  Not Applicable  ...   \n",
       "1       Executive       CEO            35   Male  Not Applicable  ...   \n",
       "2       Executive       CEO            35   Male  Not Applicable  ...   \n",
       "3       Executive       CEO            35   Male  Not Applicable  ...   \n",
       "4       Executive       CEO            35   Male  Not Applicable  ...   \n",
       "\n",
       "  year_of_record  employment_status business_unit job_category population  \\\n",
       "0           2006             ACTIVE    HEADOFFICE        Board    2437000   \n",
       "1           2007             ACTIVE    HEADOFFICE        Board    2437000   \n",
       "2           2008             ACTIVE    HEADOFFICE        Board    2437000   \n",
       "3           2009             ACTIVE    HEADOFFICE        Board    2437000   \n",
       "4           2010             ACTIVE    HEADOFFICE        Board    2437000   \n",
       "\n",
       "   _merge population_flag age_flag employ_status_flag Hierarchy  \n",
       "0    both       Mega_city  Old_age                  1         3  \n",
       "1    both       Mega_city  Old_age                  1         3  \n",
       "2    both       Mega_city  Old_age                  1         3  \n",
       "3    both       Mega_city  Old_age                  1         3  \n",
       "4    both       Mega_city  Old_age                  1         3  \n",
       "\n",
       "[5 rows x 21 columns]"
      ]
     },
     "execution_count": 54,
     "metadata": {},
     "output_type": "execute_result"
    }
   ],
   "source": [
    "df_merge.head()"
   ]
  },
  {
   "cell_type": "code",
   "execution_count": 55,
   "id": "f47f44ae",
   "metadata": {},
   "outputs": [
    {
     "data": {
      "text/plain": [
       "(48756, 21)"
      ]
     },
     "execution_count": 55,
     "metadata": {},
     "output_type": "execute_result"
    }
   ],
   "source": [
    "df_merge.shape"
   ]
  },
  {
   "cell_type": "markdown",
   "id": "bd342f2e",
   "metadata": {},
   "source": [
    "# Exporting Data set"
   ]
  },
  {
   "cell_type": "code",
   "execution_count": 56,
   "id": "8401cc2d",
   "metadata": {},
   "outputs": [],
   "source": [
    "# Exporting cleaned dataset\n",
    "df.to_csv(os.path.join(path, '02 Data','Prepared Data', 'df_cleaned_updated1.csv'))"
   ]
  },
  {
   "cell_type": "code",
   "execution_count": 57,
   "id": "f14bf172",
   "metadata": {},
   "outputs": [],
   "source": [
    "# Exporting merged dataset\n",
    "df_merge.to_csv(os.path.join(path, '02 Data','Prepared Data', 'df_merged.csv'))"
   ]
  },
  {
   "cell_type": "code",
   "execution_count": null,
   "id": "fa5ca3f6",
   "metadata": {},
   "outputs": [],
   "source": []
  }
 ],
 "metadata": {
  "kernelspec": {
   "display_name": "Python 3 (ipykernel)",
   "language": "python",
   "name": "python3"
  },
  "language_info": {
   "codemirror_mode": {
    "name": "ipython",
    "version": 3
   },
   "file_extension": ".py",
   "mimetype": "text/x-python",
   "name": "python",
   "nbconvert_exporter": "python",
   "pygments_lexer": "ipython3",
   "version": "3.10.9"
  }
 },
 "nbformat": 4,
 "nbformat_minor": 5
}
